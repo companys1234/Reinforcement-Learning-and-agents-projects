{
  "nbformat": 4,
  "nbformat_minor": 0,
  "metadata": {
    "colab": {
      "provenance": []
    },
    "kernelspec": {
      "name": "python3",
      "display_name": "Python 3"
    },
    "language_info": {
      "name": "python"
    }
  },
  "cells": [
    {
      "cell_type": "code",
      "source": [
        "!pip install numpy==1.23.5"
      ],
      "metadata": {
        "colab": {
          "base_uri": "https://localhost:8080/",
          "height": 647
        },
        "id": "1vg22kEaqxH_",
        "outputId": "af510132-2f7c-4b0b-e71f-a61b322b8908"
      },
      "execution_count": 2,
      "outputs": [
        {
          "output_type": "stream",
          "name": "stdout",
          "text": [
            "Collecting numpy==1.23.5\n",
            "  Downloading numpy-1.23.5-cp311-cp311-manylinux_2_17_x86_64.manylinux2014_x86_64.whl.metadata (2.3 kB)\n",
            "Downloading numpy-1.23.5-cp311-cp311-manylinux_2_17_x86_64.manylinux2014_x86_64.whl (17.1 MB)\n",
            "\u001b[2K   \u001b[90m━━━━━━━━━━━━━━━━━━━━━━━━━━━━━━━━━━━━━━━━\u001b[0m \u001b[32m17.1/17.1 MB\u001b[0m \u001b[31m102.4 MB/s\u001b[0m eta \u001b[36m0:00:00\u001b[0m\n",
            "\u001b[?25hInstalling collected packages: numpy\n",
            "  Attempting uninstall: numpy\n",
            "    Found existing installation: numpy 2.0.2\n",
            "    Uninstalling numpy-2.0.2:\n",
            "      Successfully uninstalled numpy-2.0.2\n",
            "\u001b[31mERROR: pip's dependency resolver does not currently take into account all the packages that are installed. This behaviour is the source of the following dependency conflicts.\n",
            "bigframes 2.8.0 requires numpy>=1.24.0, but you have numpy 1.23.5 which is incompatible.\n",
            "pymc 5.23.0 requires numpy>=1.25.0, but you have numpy 1.23.5 which is incompatible.\n",
            "albucore 0.0.24 requires numpy>=1.24.4, but you have numpy 1.23.5 which is incompatible.\n",
            "imbalanced-learn 0.13.0 requires numpy<3,>=1.24.3, but you have numpy 1.23.5 which is incompatible.\n",
            "albumentations 2.0.8 requires numpy>=1.24.4, but you have numpy 1.23.5 which is incompatible.\n",
            "jaxlib 0.5.1 requires numpy>=1.25, but you have numpy 1.23.5 which is incompatible.\n",
            "blosc2 3.5.1 requires numpy>=1.26, but you have numpy 1.23.5 which is incompatible.\n",
            "jax 0.5.2 requires numpy>=1.25, but you have numpy 1.23.5 which is incompatible.\n",
            "xarray 2025.3.1 requires numpy>=1.24, but you have numpy 1.23.5 which is incompatible.\n",
            "treescope 0.1.9 requires numpy>=1.25.2, but you have numpy 1.23.5 which is incompatible.\n",
            "scikit-image 0.25.2 requires numpy>=1.24, but you have numpy 1.23.5 which is incompatible.\n",
            "opencv-python-headless 4.12.0.88 requires numpy<2.3.0,>=2; python_version >= \"3.9\", but you have numpy 1.23.5 which is incompatible.\n",
            "db-dtypes 1.4.3 requires numpy>=1.24.0, but you have numpy 1.23.5 which is incompatible.\n",
            "xarray-einstats 0.9.1 requires numpy>=1.25, but you have numpy 1.23.5 which is incompatible.\n",
            "tensorflow 2.18.0 requires numpy<2.1.0,>=1.26.0, but you have numpy 1.23.5 which is incompatible.\n",
            "thinc 8.3.6 requires numpy<3.0.0,>=2.0.0, but you have numpy 1.23.5 which is incompatible.\n",
            "chex 0.1.89 requires numpy>=1.24.1, but you have numpy 1.23.5 which is incompatible.\u001b[0m\u001b[31m\n",
            "\u001b[0mSuccessfully installed numpy-1.23.5\n"
          ]
        },
        {
          "output_type": "display_data",
          "data": {
            "application/vnd.colab-display-data+json": {
              "pip_warning": {
                "packages": [
                  "numpy"
                ]
              },
              "id": "5523919189814ad8b5b3a9fabc91fece"
            }
          },
          "metadata": {}
        }
      ]
    },
    {
      "cell_type": "code",
      "source": [
        "import gym\n",
        "import torch\n",
        "import torch.nn as nn\n",
        "import torch.optim as optim\n",
        "from torch.distributions import Categorical\n",
        "import numpy as np\n",
        "import matplotlib.pyplot as plt\n",
        "import imageio\n",
        "import os\n",
        "\n",
        "# --- Настройки ---\n",
        "ENV_NAME = \"CartPole-v1\"\n",
        "GAMMA = 0.99\n",
        "LAMBDA = 0.95\n",
        "LR = 1e-3\n",
        "EPISODES = 500\n",
        "VIDEO_INTERVAL = 50\n",
        "SAVE_DIR = \"./gae_videos\"\n",
        "os.makedirs(SAVE_DIR, exist_ok=True)\n",
        "\n",
        "device = torch.device(\"cuda\" if torch.cuda.is_available() else \"cpu\")\n",
        "\n",
        "# --- Актор-Критик модель ---\n",
        "class ActorCritic(nn.Module):\n",
        "    def __init__(self, obs_dim, action_dim):\n",
        "        super().__init__()\n",
        "        self.shared = nn.Sequential(\n",
        "            nn.Linear(obs_dim, 128),\n",
        "            nn.ReLU(),\n",
        "        )\n",
        "        self.policy = nn.Linear(128, action_dim)\n",
        "        self.value = nn.Linear(128, 1)\n",
        "\n",
        "    def forward(self, x):\n",
        "        x = self.shared(x)\n",
        "        return self.policy(x), self.value(x)\n",
        "\n",
        "# --- Generalized Advantage Estimation ---\n",
        "def compute_gae(rewards, values, next_value, gamma=GAMMA, lam=LAMBDA):\n",
        "    values = values + [next_value]\n",
        "    gae = 0\n",
        "    returns = []\n",
        "    for t in reversed(range(len(rewards))):\n",
        "        delta = rewards[t] + gamma * values[t + 1] - values[t]\n",
        "        gae = delta + gamma * lam * gae\n",
        "        returns.insert(0, gae + values[t])\n",
        "    advantages = [ret - val for ret, val in zip(returns, values[:-1])]\n",
        "    return returns, advantages\n",
        "\n",
        "# --- Видеозапись ---\n",
        "def record_video(env, model, episode):\n",
        "    frames = []\n",
        "    state = env.reset()\n",
        "    done = False\n",
        "    while not done:\n",
        "        frame = env.render(mode=\"rgb_array\")\n",
        "        frames.append(frame)\n",
        "        state_tensor = torch.tensor(state, dtype=torch.float32).unsqueeze(0).to(device)\n",
        "        logits, _ = model(state_tensor)\n",
        "        dist = Categorical(logits=logits)\n",
        "        action = dist.sample().item()\n",
        "        state, _, done, _ = env.step(action)\n",
        "    filename = os.path.join(SAVE_DIR, f\"episode_{episode}.mp4\")\n",
        "    imageio.mimsave(filename, frames, fps=30)\n",
        "    print(f\"Saved video: {filename}\")\n",
        "\n",
        "# --- Обучающий цикл ---\n",
        "def train():\n",
        "    env = gym.make(ENV_NAME)\n",
        "    obs_dim = env.observation_space.shape[0]\n",
        "    action_dim = env.action_space.n\n",
        "\n",
        "    model = ActorCritic(obs_dim, action_dim).to(device)\n",
        "    optimizer = optim.Adam(model.parameters(), lr=LR)\n",
        "\n",
        "    reward_history = []\n",
        "\n",
        "    for episode in range(EPISODES):\n",
        "        state = env.reset()\n",
        "        log_probs = []\n",
        "        values = []\n",
        "        rewards = []\n",
        "\n",
        "        done = False\n",
        "        total_reward = 0\n",
        "\n",
        "        while not done:\n",
        "            state_tensor = torch.tensor(state, dtype=torch.float32).unsqueeze(0).to(device)\n",
        "            logits, value = model(state_tensor)\n",
        "            dist = Categorical(logits=logits)\n",
        "            action = dist.sample()\n",
        "\n",
        "            next_state, reward, done, _ = env.step(action.item())\n",
        "\n",
        "            log_probs.append(dist.log_prob(action))\n",
        "            values.append(value.squeeze())\n",
        "            rewards.append(reward)\n",
        "\n",
        "            total_reward += reward\n",
        "            state = next_state\n",
        "\n",
        "        # Последнее значение (bootstrap)\n",
        "        next_state_tensor = torch.tensor(next_state, dtype=torch.float32).unsqueeze(0).to(device)\n",
        "        _, next_value = model(next_state_tensor)\n",
        "        next_value = next_value.squeeze().detach()\n",
        "\n",
        "        returns, advantages = compute_gae(rewards, [v.detach() for v in values], next_value)\n",
        "\n",
        "        log_probs = torch.stack(log_probs)\n",
        "        values = torch.stack(values)\n",
        "        returns = torch.tensor(returns).to(device)\n",
        "        advantages = torch.tensor(advantages).to(device)\n",
        "\n",
        "        actor_loss = -(log_probs * advantages.detach()).mean()\n",
        "        critic_loss = (returns - values).pow(2).mean()\n",
        "        loss = actor_loss + critic_loss\n",
        "\n",
        "        optimizer.zero_grad()\n",
        "        loss.backward()\n",
        "        optimizer.step()\n",
        "\n",
        "        reward_history.append(total_reward)\n",
        "\n",
        "        if episode % 10 == 0:\n",
        "            print(f\"Episode {episode} | Reward: {total_reward:.2f}\")\n",
        "\n",
        "        if episode % VIDEO_INTERVAL == 0:\n",
        "            record_video(env, model, episode)\n",
        "\n",
        "    env.close()\n",
        "\n",
        "    # --- Визуализация ---\n",
        "    plt.plot(reward_history)\n",
        "    plt.xlabel(\"Episode\")\n",
        "    plt.ylabel(\"Reward\")\n",
        "    plt.title(\"Actor-Critic with GAE on \" + ENV_NAME)\n",
        "    plt.grid()\n",
        "    plt.show()\n",
        "\n",
        "if __name__ == \"__main__\":\n",
        "    train()\n"
      ],
      "metadata": {
        "colab": {
          "base_uri": "https://localhost:8080/",
          "height": 1000
        },
        "id": "GOO8uCdNycaK",
        "outputId": "53c40732-7571-4167-e2f2-4168a46f48bf"
      },
      "execution_count": 9,
      "outputs": [
        {
          "output_type": "stream",
          "name": "stderr",
          "text": [
            "/usr/local/lib/python3.11/dist-packages/gym/core.py:317: DeprecationWarning: \u001b[33mWARN: Initializing wrapper in old step API which returns one bool instead of two. It is recommended to set `new_step_api=True` to use new step API. This will be the default behaviour in future.\u001b[0m\n",
            "  deprecation(\n",
            "/usr/local/lib/python3.11/dist-packages/gym/wrappers/step_api_compatibility.py:39: DeprecationWarning: \u001b[33mWARN: Initializing environment in old step API which returns one bool instead of two. It is recommended to set `new_step_api=True` to use new step API. This will be the default behaviour in future.\u001b[0m\n",
            "  deprecation(\n"
          ]
        },
        {
          "output_type": "stream",
          "name": "stdout",
          "text": [
            "Episode 0 | Reward: 20.00\n"
          ]
        },
        {
          "output_type": "stream",
          "name": "stderr",
          "text": [
            "WARNING:imageio_ffmpeg:IMAGEIO FFMPEG_WRITER WARNING: input image is not divisible by macro_block_size=16, resizing from (600, 400) to (608, 400) to ensure video compatibility with most codecs and players. To prevent resizing, make your input image divisible by the macro_block_size or set the macro_block_size to 1 (risking incompatibility).\n"
          ]
        },
        {
          "output_type": "stream",
          "name": "stdout",
          "text": [
            "Saved video: ./gae_videos/episode_0.mp4\n",
            "Episode 10 | Reward: 17.00\n",
            "Episode 20 | Reward: 18.00\n",
            "Episode 30 | Reward: 19.00\n",
            "Episode 40 | Reward: 23.00\n",
            "Episode 50 | Reward: 22.00\n"
          ]
        },
        {
          "output_type": "stream",
          "name": "stderr",
          "text": [
            "WARNING:imageio_ffmpeg:IMAGEIO FFMPEG_WRITER WARNING: input image is not divisible by macro_block_size=16, resizing from (600, 400) to (608, 400) to ensure video compatibility with most codecs and players. To prevent resizing, make your input image divisible by the macro_block_size or set the macro_block_size to 1 (risking incompatibility).\n"
          ]
        },
        {
          "output_type": "stream",
          "name": "stdout",
          "text": [
            "Saved video: ./gae_videos/episode_50.mp4\n",
            "Episode 60 | Reward: 11.00\n",
            "Episode 70 | Reward: 16.00\n",
            "Episode 80 | Reward: 17.00\n"
          ]
        },
        {
          "output_type": "stream",
          "name": "stderr",
          "text": [
            "WARNING:imageio_ffmpeg:IMAGEIO FFMPEG_WRITER WARNING: input image is not divisible by macro_block_size=16, resizing from (600, 400) to (608, 400) to ensure video compatibility with most codecs and players. To prevent resizing, make your input image divisible by the macro_block_size or set the macro_block_size to 1 (risking incompatibility).\n"
          ]
        },
        {
          "output_type": "stream",
          "name": "stdout",
          "text": [
            "Episode 90 | Reward: 14.00\n",
            "Episode 100 | Reward: 11.00\n",
            "Saved video: ./gae_videos/episode_100.mp4\n",
            "Episode 110 | Reward: 13.00\n",
            "Episode 120 | Reward: 14.00\n",
            "Episode 130 | Reward: 11.00\n"
          ]
        },
        {
          "output_type": "stream",
          "name": "stderr",
          "text": [
            "WARNING:imageio_ffmpeg:IMAGEIO FFMPEG_WRITER WARNING: input image is not divisible by macro_block_size=16, resizing from (600, 400) to (608, 400) to ensure video compatibility with most codecs and players. To prevent resizing, make your input image divisible by the macro_block_size or set the macro_block_size to 1 (risking incompatibility).\n"
          ]
        },
        {
          "output_type": "stream",
          "name": "stdout",
          "text": [
            "Episode 140 | Reward: 17.00\n",
            "Episode 150 | Reward: 12.00\n",
            "Saved video: ./gae_videos/episode_150.mp4\n",
            "Episode 160 | Reward: 9.00\n",
            "Episode 170 | Reward: 9.00\n"
          ]
        },
        {
          "output_type": "stream",
          "name": "stderr",
          "text": [
            "WARNING:imageio_ffmpeg:IMAGEIO FFMPEG_WRITER WARNING: input image is not divisible by macro_block_size=16, resizing from (600, 400) to (608, 400) to ensure video compatibility with most codecs and players. To prevent resizing, make your input image divisible by the macro_block_size or set the macro_block_size to 1 (risking incompatibility).\n"
          ]
        },
        {
          "output_type": "stream",
          "name": "stdout",
          "text": [
            "Episode 180 | Reward: 9.00\n",
            "Episode 190 | Reward: 12.00\n",
            "Episode 200 | Reward: 11.00\n",
            "Saved video: ./gae_videos/episode_200.mp4\n",
            "Episode 210 | Reward: 8.00\n",
            "Episode 220 | Reward: 9.00\n"
          ]
        },
        {
          "output_type": "stream",
          "name": "stderr",
          "text": [
            "WARNING:imageio_ffmpeg:IMAGEIO FFMPEG_WRITER WARNING: input image is not divisible by macro_block_size=16, resizing from (600, 400) to (608, 400) to ensure video compatibility with most codecs and players. To prevent resizing, make your input image divisible by the macro_block_size or set the macro_block_size to 1 (risking incompatibility).\n"
          ]
        },
        {
          "output_type": "stream",
          "name": "stdout",
          "text": [
            "Episode 230 | Reward: 9.00\n",
            "Episode 240 | Reward: 9.00\n",
            "Episode 250 | Reward: 8.00\n",
            "Saved video: ./gae_videos/episode_250.mp4\n",
            "Episode 260 | Reward: 10.00\n",
            "Episode 270 | Reward: 9.00\n",
            "Episode 280 | Reward: 8.00\n"
          ]
        },
        {
          "output_type": "stream",
          "name": "stderr",
          "text": [
            "WARNING:imageio_ffmpeg:IMAGEIO FFMPEG_WRITER WARNING: input image is not divisible by macro_block_size=16, resizing from (600, 400) to (608, 400) to ensure video compatibility with most codecs and players. To prevent resizing, make your input image divisible by the macro_block_size or set the macro_block_size to 1 (risking incompatibility).\n"
          ]
        },
        {
          "output_type": "stream",
          "name": "stdout",
          "text": [
            "Episode 290 | Reward: 9.00\n",
            "Episode 300 | Reward: 9.00\n",
            "Saved video: ./gae_videos/episode_300.mp4\n",
            "Episode 310 | Reward: 8.00\n",
            "Episode 320 | Reward: 9.00\n",
            "Episode 330 | Reward: 9.00\n",
            "Episode 340 | Reward: 9.00\n"
          ]
        },
        {
          "output_type": "stream",
          "name": "stderr",
          "text": [
            "WARNING:imageio_ffmpeg:IMAGEIO FFMPEG_WRITER WARNING: input image is not divisible by macro_block_size=16, resizing from (600, 400) to (608, 400) to ensure video compatibility with most codecs and players. To prevent resizing, make your input image divisible by the macro_block_size or set the macro_block_size to 1 (risking incompatibility).\n"
          ]
        },
        {
          "output_type": "stream",
          "name": "stdout",
          "text": [
            "Episode 350 | Reward: 8.00\n",
            "Saved video: ./gae_videos/episode_350.mp4\n",
            "Episode 360 | Reward: 10.00\n",
            "Episode 370 | Reward: 9.00\n",
            "Episode 380 | Reward: 10.00\n",
            "Episode 390 | Reward: 10.00\n"
          ]
        },
        {
          "output_type": "stream",
          "name": "stderr",
          "text": [
            "WARNING:imageio_ffmpeg:IMAGEIO FFMPEG_WRITER WARNING: input image is not divisible by macro_block_size=16, resizing from (600, 400) to (608, 400) to ensure video compatibility with most codecs and players. To prevent resizing, make your input image divisible by the macro_block_size or set the macro_block_size to 1 (risking incompatibility).\n"
          ]
        },
        {
          "output_type": "stream",
          "name": "stdout",
          "text": [
            "Episode 400 | Reward: 10.00\n",
            "Saved video: ./gae_videos/episode_400.mp4\n",
            "Episode 410 | Reward: 10.00\n",
            "Episode 420 | Reward: 10.00\n",
            "Episode 430 | Reward: 10.00\n",
            "Episode 440 | Reward: 10.00\n"
          ]
        },
        {
          "output_type": "stream",
          "name": "stderr",
          "text": [
            "WARNING:imageio_ffmpeg:IMAGEIO FFMPEG_WRITER WARNING: input image is not divisible by macro_block_size=16, resizing from (600, 400) to (608, 400) to ensure video compatibility with most codecs and players. To prevent resizing, make your input image divisible by the macro_block_size or set the macro_block_size to 1 (risking incompatibility).\n"
          ]
        },
        {
          "output_type": "stream",
          "name": "stdout",
          "text": [
            "Episode 450 | Reward: 8.00\n",
            "Saved video: ./gae_videos/episode_450.mp4\n",
            "Episode 460 | Reward: 10.00\n",
            "Episode 470 | Reward: 10.00\n",
            "Episode 480 | Reward: 9.00\n",
            "Episode 490 | Reward: 9.00\n"
          ]
        },
        {
          "output_type": "display_data",
          "data": {
            "text/plain": [
              "<Figure size 640x480 with 1 Axes>"
            ],
            "image/png": "[encoded data removed]"
          },
          "metadata": {}
        }
      ]
    }
  ]
}