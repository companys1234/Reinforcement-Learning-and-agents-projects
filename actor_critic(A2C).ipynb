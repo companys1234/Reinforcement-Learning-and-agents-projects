{
  "nbformat": 4,
  "nbformat_minor": 0,
  "metadata": {
    "colab": {
      "provenance": []
    },
    "kernelspec": {
      "name": "python3",
      "display_name": "Python 3"
    },
    "language_info": {
      "name": "python"
    }
  },
  "cells": [
    {
      "cell_type": "code",
      "source": [
        "\n",
        "!pip install numpy==1.23.5"
      ],
      "metadata": {
        "colab": {
          "base_uri": "https://localhost:8080/",
          "height": 629
        },
        "id": "WKBgj171A8AD",
        "outputId": "614a6e94-5448-4430-cb68-da330e93508f"
      },
      "execution_count": 2,
      "outputs": [
        {
          "output_type": "stream",
          "name": "stdout",
          "text": [
            "Collecting numpy==1.23.5\n",
            "  Downloading numpy-1.23.5-cp311-cp311-manylinux_2_17_x86_64.manylinux2014_x86_64.whl.metadata (2.3 kB)\n",
            "Downloading numpy-1.23.5-cp311-cp311-manylinux_2_17_x86_64.manylinux2014_x86_64.whl (17.1 MB)\n",
            "\u001b[2K   \u001b[90m━━━━━━━━━━━━━━━━━━━━━━━━━━━━━━━━━━━━━━━━\u001b[0m \u001b[32m17.1/17.1 MB\u001b[0m \u001b[31m73.3 MB/s\u001b[0m eta \u001b[36m0:00:00\u001b[0m\n",
            "\u001b[?25hInstalling collected packages: numpy\n",
            "  Attempting uninstall: numpy\n",
            "    Found existing installation: numpy 2.0.2\n",
            "    Uninstalling numpy-2.0.2:\n",
            "      Successfully uninstalled numpy-2.0.2\n",
            "\u001b[31mERROR: pip's dependency resolver does not currently take into account all the packages that are installed. This behaviour is the source of the following dependency conflicts.\n",
            "jaxlib 0.5.1 requires numpy>=1.25, but you have numpy 1.23.5 which is incompatible.\n",
            "treescope 0.1.9 requires numpy>=1.25.2, but you have numpy 1.23.5 which is incompatible.\n",
            "thinc 8.3.6 requires numpy<3.0.0,>=2.0.0, but you have numpy 1.23.5 which is incompatible.\n",
            "jax 0.5.2 requires numpy>=1.25, but you have numpy 1.23.5 which is incompatible.\n",
            "xarray 2025.3.1 requires numpy>=1.24, but you have numpy 1.23.5 which is incompatible.\n",
            "imbalanced-learn 0.13.0 requires numpy<3,>=1.24.3, but you have numpy 1.23.5 which is incompatible.\n",
            "albumentations 2.0.8 requires numpy>=1.24.4, but you have numpy 1.23.5 which is incompatible.\n",
            "scikit-image 0.25.2 requires numpy>=1.24, but you have numpy 1.23.5 which is incompatible.\n",
            "xarray-einstats 0.9.1 requires numpy>=1.25, but you have numpy 1.23.5 which is incompatible.\n",
            "chex 0.1.89 requires numpy>=1.24.1, but you have numpy 1.23.5 which is incompatible.\n",
            "blosc2 3.5.1 requires numpy>=1.26, but you have numpy 1.23.5 which is incompatible.\n",
            "db-dtypes 1.4.3 requires numpy>=1.24.0, but you have numpy 1.23.5 which is incompatible.\n",
            "albucore 0.0.24 requires numpy>=1.24.4, but you have numpy 1.23.5 which is incompatible.\n",
            "pymc 5.23.0 requires numpy>=1.25.0, but you have numpy 1.23.5 which is incompatible.\n",
            "bigframes 2.8.0 requires numpy>=1.24.0, but you have numpy 1.23.5 which is incompatible.\n",
            "tensorflow 2.18.0 requires numpy<2.1.0,>=1.26.0, but you have numpy 1.23.5 which is incompatible.\u001b[0m\u001b[31m\n",
            "\u001b[0mSuccessfully installed numpy-1.23.5\n"
          ]
        },
        {
          "output_type": "display_data",
          "data": {
            "application/vnd.colab-display-data+json": {
              "pip_warning": {
                "packages": [
                  "numpy"
                ]
              },
              "id": "c9b81a1dc966472f9020be52ee662cc2"
            }
          },
          "metadata": {}
        }
      ]
    },
    {
      "cell_type": "code",
      "source": [
        "import gym\n",
        "import torch\n",
        "import torch.nn as nn\n",
        "import torch.optim as optim\n",
        "from torch.distributions import Categorical\n",
        "import numpy as np\n",
        "import matplotlib.pyplot as plt\n",
        "import imageio\n",
        "import os\n",
        "\n",
        "# --- Настройки ---\n",
        "ENV_NAME = \"CartPole-v1\"\n",
        "GAMMA = 0.99\n",
        "LR = 1e-3\n",
        "EPISODES = 500\n",
        "VIDEO_INTERVAL = 50\n",
        "SAVE_DIR = \"./a2c_videos\"\n",
        "os.makedirs(SAVE_DIR, exist_ok=True)\n",
        "\n",
        "device = torch.device(\"cuda\" if torch.cuda.is_available() else \"cpu\")\n",
        "\n",
        "# --- Актор-Критик модель ---\n",
        "class ActorCritic(nn.Module):\n",
        "    def __init__(self, obs_dim, action_dim):\n",
        "        super().__init__()\n",
        "        self.fc = nn.Sequential(\n",
        "            nn.Linear(obs_dim, 128),\n",
        "            nn.ReLU(),\n",
        "        )\n",
        "        self.policy = nn.Linear(128, action_dim)\n",
        "        self.value = nn.Linear(128, 1)\n",
        "\n",
        "    def forward(self, x):\n",
        "        x = self.fc(x)\n",
        "        return self.policy(x), self.value(x)\n",
        "\n",
        "# --- Обучающий цикл A2C ---\n",
        "def train(env, model, optimizer):\n",
        "    reward_history = []\n",
        "\n",
        "    for episode in range(EPISODES):\n",
        "        state = env.reset()\n",
        "        log_probs = []\n",
        "        values = []\n",
        "        rewards = []\n",
        "\n",
        "        done = False\n",
        "        total_reward = 0\n",
        "\n",
        "        while not done:\n",
        "            state_tensor = torch.tensor(state, dtype=torch.float32).unsqueeze(0).to(device)\n",
        "            logits, value = model(state_tensor)\n",
        "            dist = Categorical(logits=logits)\n",
        "            action = dist.sample()\n",
        "\n",
        "            next_state, reward, done, _ = env.step(action.item())\n",
        "\n",
        "            log_probs.append(dist.log_prob(action))\n",
        "            values.append(value)\n",
        "            rewards.append(reward)\n",
        "\n",
        "            state = next_state\n",
        "            total_reward += reward\n",
        "\n",
        "        # Расчет Advantage и возвратов\n",
        "        Qval = 0\n",
        "        values.append(torch.tensor([[0.0]]).to(device))  # Bootstrap\n",
        "        Qvals = []\n",
        "        for r in reversed(rewards):\n",
        "            Qval = r + GAMMA * Qval\n",
        "            Qvals.insert(0, Qval)\n",
        "\n",
        "        Qvals = torch.tensor(Qvals).float().to(device)\n",
        "        values = torch.cat(values[:-1])\n",
        "        log_probs = torch.stack(log_probs)\n",
        "\n",
        "        advantage = Qvals - values.squeeze()\n",
        "        actor_loss = -(log_probs * advantage.detach()).mean()\n",
        "        critic_loss = advantage.pow(2).mean()\n",
        "\n",
        "        loss = actor_loss + critic_loss\n",
        "\n",
        "        optimizer.zero_grad()\n",
        "        loss.backward()\n",
        "        optimizer.step()\n",
        "\n",
        "        reward_history.append(total_reward)\n",
        "\n",
        "        if episode % 10 == 0:\n",
        "            print(f\"Episode {episode}, Total reward: {total_reward}\")\n",
        "\n",
        "        if episode % VIDEO_INTERVAL == 0:\n",
        "            record_video(env, model, episode)\n",
        "\n",
        "    return reward_history\n",
        "\n",
        "# --- Запись видео ---\n",
        "def record_video(env, model, episode):\n",
        "    frames = []\n",
        "    state = env.reset()\n",
        "    done = False\n",
        "    while not done:\n",
        "        frame = env.render(mode='rgb_array')\n",
        "        frames.append(frame)\n",
        "\n",
        "        state_tensor = torch.tensor(state, dtype=torch.float32).unsqueeze(0).to(device)\n",
        "        logits, _ = model(state_tensor)\n",
        "        dist = Categorical(logits=logits)\n",
        "        action = dist.sample().item()\n",
        "\n",
        "        state, _, done, _ = env.step(action)\n",
        "\n",
        "    filename = os.path.join(SAVE_DIR, f\"episode_{episode}.mp4\")\n",
        "    imageio.mimsave(filename, frames, fps=30)\n",
        "    print(f\"Saved video: {filename}\")\n",
        "\n",
        "# --- Основной запуск ---\n",
        "if __name__ == \"__main__\":\n",
        "    env = gym.make(ENV_NAME)\n",
        "    obs_dim = env.observation_space.shape[0]\n",
        "    action_dim = env.action_space.n\n",
        "\n",
        "    model = ActorCritic(obs_dim, action_dim).to(device)\n",
        "    optimizer = optim.Adam(model.parameters(), lr=LR)\n",
        "\n",
        "    rewards = train(env, model, optimizer)\n",
        "\n",
        "    env.close()\n",
        "\n",
        "    # --- Визуализация прогресса ---\n",
        "    plt.plot(rewards)\n",
        "    plt.xlabel(\"Episode\")\n",
        "    plt.ylabel(\"Reward\")\n",
        "    plt.title(\"A2C on \" + ENV_NAME)\n",
        "    plt.grid()\n",
        "    plt.show()\n"
      ],
      "metadata": {
        "colab": {
          "base_uri": "https://localhost:8080/",
          "height": 1000
        },
        "id": "nLivcD-REyw9",
        "outputId": "d58a70d4-a40f-4291-b960-03160250e2ff"
      },
      "execution_count": 1,
      "outputs": [
        {
          "output_type": "stream",
          "name": "stderr",
          "text": [
            "/usr/local/lib/python3.11/dist-packages/gym/core.py:317: DeprecationWarning: \u001b[33mWARN: Initializing wrapper in old step API which returns one bool instead of two. It is recommended to set `new_step_api=True` to use new step API. This will be the default behaviour in future.\u001b[0m\n",
            "  deprecation(\n",
            "/usr/local/lib/python3.11/dist-packages/gym/wrappers/step_api_compatibility.py:39: DeprecationWarning: \u001b[33mWARN: Initializing environment in old step API which returns one bool instead of two. It is recommended to set `new_step_api=True` to use new step API. This will be the default behaviour in future.\u001b[0m\n",
            "  deprecation(\n"
          ]
        },
        {
          "output_type": "stream",
          "name": "stdout",
          "text": [
            "Episode 0, Total reward: 10.0\n"
          ]
        },
        {
          "output_type": "stream",
          "name": "stderr",
          "text": [
            "/usr/local/lib/python3.11/dist-packages/gym/core.py:43: DeprecationWarning: \u001b[33mWARN: The argument mode in render method is deprecated; use render_mode during environment initialization instead.\n",
            "See here for more information: https://www.gymlibrary.ml/content/api/\u001b[0m\n",
            "  deprecation(\n",
            "WARNING:imageio_ffmpeg:IMAGEIO FFMPEG_WRITER WARNING: input image is not divisible by macro_block_size=16, resizing from (600, 400) to (608, 400) to ensure video compatibility with most codecs and players. To prevent resizing, make your input image divisible by the macro_block_size or set the macro_block_size to 1 (risking incompatibility).\n"
          ]
        },
        {
          "output_type": "stream",
          "name": "stdout",
          "text": [
            "Saved video: ./a2c_videos/episode_0.mp4\n",
            "Episode 10, Total reward: 25.0\n",
            "Episode 20, Total reward: 19.0\n",
            "Episode 30, Total reward: 10.0\n",
            "Episode 40, Total reward: 14.0\n"
          ]
        },
        {
          "output_type": "stream",
          "name": "stderr",
          "text": [
            "WARNING:imageio_ffmpeg:IMAGEIO FFMPEG_WRITER WARNING: input image is not divisible by macro_block_size=16, resizing from (600, 400) to (608, 400) to ensure video compatibility with most codecs and players. To prevent resizing, make your input image divisible by the macro_block_size or set the macro_block_size to 1 (risking incompatibility).\n"
          ]
        },
        {
          "output_type": "stream",
          "name": "stdout",
          "text": [
            "Episode 50, Total reward: 14.0\n",
            "Saved video: ./a2c_videos/episode_50.mp4\n",
            "Episode 60, Total reward: 10.0\n",
            "Episode 70, Total reward: 15.0\n",
            "Episode 80, Total reward: 20.0\n",
            "Episode 90, Total reward: 23.0\n"
          ]
        },
        {
          "output_type": "stream",
          "name": "stderr",
          "text": [
            "WARNING:imageio_ffmpeg:IMAGEIO FFMPEG_WRITER WARNING: input image is not divisible by macro_block_size=16, resizing from (600, 400) to (608, 400) to ensure video compatibility with most codecs and players. To prevent resizing, make your input image divisible by the macro_block_size or set the macro_block_size to 1 (risking incompatibility).\n"
          ]
        },
        {
          "output_type": "stream",
          "name": "stdout",
          "text": [
            "Episode 100, Total reward: 12.0\n",
            "Saved video: ./a2c_videos/episode_100.mp4\n",
            "Episode 110, Total reward: 19.0\n",
            "Episode 120, Total reward: 13.0\n",
            "Episode 130, Total reward: 10.0\n",
            "Episode 140, Total reward: 21.0\n",
            "Episode 150, Total reward: 12.0\n"
          ]
        },
        {
          "output_type": "stream",
          "name": "stderr",
          "text": [
            "WARNING:imageio_ffmpeg:IMAGEIO FFMPEG_WRITER WARNING: input image is not divisible by macro_block_size=16, resizing from (600, 400) to (608, 400) to ensure video compatibility with most codecs and players. To prevent resizing, make your input image divisible by the macro_block_size or set the macro_block_size to 1 (risking incompatibility).\n"
          ]
        },
        {
          "output_type": "stream",
          "name": "stdout",
          "text": [
            "Saved video: ./a2c_videos/episode_150.mp4\n",
            "Episode 160, Total reward: 25.0\n",
            "Episode 170, Total reward: 17.0\n",
            "Episode 180, Total reward: 29.0\n",
            "Episode 190, Total reward: 84.0\n"
          ]
        },
        {
          "output_type": "stream",
          "name": "stderr",
          "text": [
            "WARNING:imageio_ffmpeg:IMAGEIO FFMPEG_WRITER WARNING: input image is not divisible by macro_block_size=16, resizing from (600, 400) to (608, 400) to ensure video compatibility with most codecs and players. To prevent resizing, make your input image divisible by the macro_block_size or set the macro_block_size to 1 (risking incompatibility).\n"
          ]
        },
        {
          "output_type": "stream",
          "name": "stdout",
          "text": [
            "Episode 200, Total reward: 33.0\n",
            "Saved video: ./a2c_videos/episode_200.mp4\n",
            "Episode 210, Total reward: 39.0\n",
            "Episode 220, Total reward: 68.0\n",
            "Episode 230, Total reward: 74.0\n",
            "Episode 240, Total reward: 30.0\n"
          ]
        },
        {
          "output_type": "stream",
          "name": "stderr",
          "text": [
            "WARNING:imageio_ffmpeg:IMAGEIO FFMPEG_WRITER WARNING: input image is not divisible by macro_block_size=16, resizing from (600, 400) to (608, 400) to ensure video compatibility with most codecs and players. To prevent resizing, make your input image divisible by the macro_block_size or set the macro_block_size to 1 (risking incompatibility).\n"
          ]
        },
        {
          "output_type": "stream",
          "name": "stdout",
          "text": [
            "Episode 250, Total reward: 28.0\n",
            "Saved video: ./a2c_videos/episode_250.mp4\n",
            "Episode 260, Total reward: 47.0\n",
            "Episode 270, Total reward: 26.0\n",
            "Episode 280, Total reward: 26.0\n",
            "Episode 290, Total reward: 46.0\n"
          ]
        },
        {
          "output_type": "stream",
          "name": "stderr",
          "text": [
            "WARNING:imageio_ffmpeg:IMAGEIO FFMPEG_WRITER WARNING: input image is not divisible by macro_block_size=16, resizing from (600, 400) to (608, 400) to ensure video compatibility with most codecs and players. To prevent resizing, make your input image divisible by the macro_block_size or set the macro_block_size to 1 (risking incompatibility).\n"
          ]
        },
        {
          "output_type": "stream",
          "name": "stdout",
          "text": [
            "Episode 300, Total reward: 34.0\n",
            "Saved video: ./a2c_videos/episode_300.mp4\n",
            "Episode 310, Total reward: 33.0\n",
            "Episode 320, Total reward: 112.0\n",
            "Episode 330, Total reward: 56.0\n",
            "Episode 340, Total reward: 27.0\n",
            "Episode 350, Total reward: 34.0\n"
          ]
        },
        {
          "output_type": "stream",
          "name": "stderr",
          "text": [
            "WARNING:imageio_ffmpeg:IMAGEIO FFMPEG_WRITER WARNING: input image is not divisible by macro_block_size=16, resizing from (600, 400) to (608, 400) to ensure video compatibility with most codecs and players. To prevent resizing, make your input image divisible by the macro_block_size or set the macro_block_size to 1 (risking incompatibility).\n"
          ]
        },
        {
          "output_type": "stream",
          "name": "stdout",
          "text": [
            "Saved video: ./a2c_videos/episode_350.mp4\n",
            "Episode 360, Total reward: 30.0\n",
            "Episode 370, Total reward: 63.0\n",
            "Episode 380, Total reward: 55.0\n",
            "Episode 390, Total reward: 30.0\n"
          ]
        },
        {
          "output_type": "stream",
          "name": "stderr",
          "text": [
            "WARNING:imageio_ffmpeg:IMAGEIO FFMPEG_WRITER WARNING: input image is not divisible by macro_block_size=16, resizing from (600, 400) to (608, 400) to ensure video compatibility with most codecs and players. To prevent resizing, make your input image divisible by the macro_block_size or set the macro_block_size to 1 (risking incompatibility).\n"
          ]
        },
        {
          "output_type": "stream",
          "name": "stdout",
          "text": [
            "Episode 400, Total reward: 40.0\n",
            "Saved video: ./a2c_videos/episode_400.mp4\n",
            "Episode 410, Total reward: 19.0\n",
            "Episode 420, Total reward: 45.0\n",
            "Episode 430, Total reward: 32.0\n",
            "Episode 440, Total reward: 41.0\n"
          ]
        },
        {
          "output_type": "stream",
          "name": "stderr",
          "text": [
            "WARNING:imageio_ffmpeg:IMAGEIO FFMPEG_WRITER WARNING: input image is not divisible by macro_block_size=16, resizing from (600, 400) to (608, 400) to ensure video compatibility with most codecs and players. To prevent resizing, make your input image divisible by the macro_block_size or set the macro_block_size to 1 (risking incompatibility).\n"
          ]
        },
        {
          "output_type": "stream",
          "name": "stdout",
          "text": [
            "Episode 450, Total reward: 91.0\n",
            "Saved video: ./a2c_videos/episode_450.mp4\n",
            "Episode 460, Total reward: 75.0\n",
            "Episode 470, Total reward: 48.0\n",
            "Episode 480, Total reward: 88.0\n",
            "Episode 490, Total reward: 49.0\n"
          ]
        },
        {
          "output_type": "display_data",
          "data": {
            "text/plain": [
              "<Figure size 640x480 with 1 Axes>"
            ],
            "image/png": "[encoded data removed]"
          },
          "metadata": {}
        }
      ]
    }
  ]
}